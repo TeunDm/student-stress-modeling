{
 "cells": [
  {
   "cell_type": "code",
   "execution_count": 1,
   "id": "fe3027a9",
   "metadata": {},
   "outputs": [],
   "source": [
    "import pandas \n",
    "import numpy\n",
    "import matplotlib.pyplot as plt\n",
    "import seaborn as sns\n",
    "import statsmodels.api as sm\n",
    "import sklearn\n",
    "import scipy.stats as stats\n",
    "import nbimporter\n"
   ]
  },
  {
   "cell_type": "code",
   "execution_count": 2,
   "id": "8a8c2468",
   "metadata": {},
   "outputs": [],
   "source": [
    "def loading_data():\n",
    "   return pandas.read_csv(r\"C:\\Users\\lopke\\Downloads\\Stress_Dataset.csv\")\n",
    "    \n",
    "data = loading_data()\n",
    "\n"
   ]
  },
  {
   "cell_type": "code",
   "execution_count": 3,
   "id": "1c0e785c",
   "metadata": {},
   "outputs": [
    {
     "data": {
      "text/plain": [
       "((843, 26), (843, 13), (843, 13))"
      ]
     },
     "execution_count": 3,
     "metadata": {},
     "output_type": "execute_result"
    }
   ],
   "source": [
    "def split_data_halfway(data):\n",
    "    \"\"\"\n",
    "    Splits the dataset into two halves.\n",
    "    \"\"\"\n",
    "    first_half = [\n",
    "        'Gender', 'Age', 'Have you recently experienced stress in your life?',\n",
    "        'Have you noticed a rapid heartbeat or palpitations?',\n",
    "        'Have you been dealing with anxiety or tension recently?',\n",
    "        'Do you face any sleep problems or difficulties falling asleep?',\n",
    "        'Have you been dealing with anxiety or tension recently?.1',\n",
    "        'Have you been getting headaches more often than usual?',\n",
    "        'Do you get irritated easily?',\n",
    "        'Do you have trouble concentrating on your academic tasks?',\n",
    "        'Have you been feeling sadness or low mood?',\n",
    "        'Have you been experiencing any illness or health issues?',\n",
    "        'Do you often feel lonely or isolated?']\n",
    "    second_half = [\n",
    "        'Do you feel overwhelmed with your academic workload?',\n",
    "        'Are you in competition with your peers, and does it affect you?',\n",
    "        'Do you find that your relationship often causes you stress?',\n",
    "        'Are you facing any difficulties with your professors or instructors?',\n",
    "        'Is your working environment unpleasant or stressful?',\n",
    "        'Do you struggle to find time for relaxation and leisure activities?',\n",
    "        'Is your hostel or home environment causing you difficulties?',\n",
    "        'Do you lack confidence in your academic performance?',\n",
    "        'Do you lack confidence in your choice of academic subjects?',\n",
    "        'Academic and extracurricular activities conflicting for you?',\n",
    "        'Do you attend classes regularly?', 'Have you gained/lost weight?',\n",
    "        'Which type of stress do you primarily experience?'\n",
    "    ]\n",
    "    return data[first_half], data[second_half]\n",
    "\n",
    "\n",
    "first, second = split_data_halfway(data)\n",
    "\n",
    "data.shape, first.shape, second.shape"
   ]
  },
  {
   "cell_type": "code",
   "execution_count": 4,
   "id": "4f0dfbe6",
   "metadata": {},
   "outputs": [
    {
     "data": {
      "text/plain": [
       "array(['Eustress (Positive Stress) - Stress that motivates and enhances performance.',\n",
       "       'No Stress - Currently experiencing minimal to no stress.',\n",
       "       'Distress (Negative Stress) - Stress that causes anxiety and impairs well-being.'],\n",
       "      dtype=object)"
      ]
     },
     "execution_count": 4,
     "metadata": {},
     "output_type": "execute_result"
    }
   ],
   "source": [
    "second['Which type of stress do you primarily experience?'].unique()"
   ]
  },
  {
   "cell_type": "code",
   "execution_count": 5,
   "id": "7c9ce06c",
   "metadata": {},
   "outputs": [],
   "source": [
    "def plot_distro(data):\n",
    "    for column in data.columns:\n",
    "        plt.figure(figsize=(10, 6))\n",
    "        sns.histplot(data[column].dropna(), kde=True)\n",
    "        plt.title(f'Distribution of {column}')\n",
    "        plt.xlabel(column)\n",
    "        plt.ylabel('Frequency')\n",
    "        plt.show()\n",
    "        \n"
   ]
  }
 ],
 "metadata": {
  "kernelspec": {
   "display_name": "Python 3",
   "language": "python",
   "name": "python3"
  },
  "language_info": {
   "codemirror_mode": {
    "name": "ipython",
    "version": 3
   },
   "file_extension": ".py",
   "mimetype": "text/x-python",
   "name": "python",
   "nbconvert_exporter": "python",
   "pygments_lexer": "ipython3",
   "version": "3.11.9"
  }
 },
 "nbformat": 4,
 "nbformat_minor": 5
}
